{
  "nbformat": 4,
  "nbformat_minor": 0,
  "metadata": {
    "colab": {
      "provenance": [],
      "toc_visible": true,
      "include_colab_link": true
    },
    "kernelspec": {
      "name": "python3",
      "display_name": "Python 3"
    },
    "language_info": {
      "name": "python"
    }
  },
  "cells": [
    {
      "cell_type": "markdown",
      "metadata": {
        "id": "view-in-github",
        "colab_type": "text"
      },
      "source": [
        "<a href=\"https://colab.research.google.com/github/LindaVolquez/DatingApp/blob/main/Another_copy_of_TIO_1_6.ipynb\" target=\"_parent\"><img src=\"https://colab.research.google.com/assets/colab-badge.svg\" alt=\"Open In Colab\"/></a>"
      ]
    },
    {
      "cell_type": "markdown",
      "source": [
        "# Arithmetic Operators"
      ],
      "metadata": {
        "id": "qGkdME4ooz8L"
      }
    },
    {
      "cell_type": "markdown",
      "source": [
        "*Run the following samples of code. After you run them double click to record your observations or answer the reflection questions."
      ],
      "metadata": {
        "id": "fNQ2LR8MnoX6"
      }
    },
    {
      "cell_type": "markdown",
      "source": [
        "Observe the following lines of code to see what you notice about the math operators. Practice using the # sign to create comments. A comment is a line in the code that will not execute. Only the first line of code is currently active. Use the # to comment out code you do not want to run. Remove the # sign to run each line of code one at a time. The + sign can be used for both concatenation and addition in the same print line."
      ],
      "metadata": {
        "id": "icGIbAsRlcE5"
      }
    },
    {
      "cell_type": "code",
      "source": [
        "print(\"The Answer is: \" + str(40 + 2))\n",
        "#print(str(4) + str(2) + \": Life, the universe and everything\" )\n",
        "#print(\"PI: \" + str(float(3.14159)))\n",
        "#print(\"PI: \" + str(int(3.14159)))\n",
        "#print(\"Int Division \" + str(int(10 / 4 )))\n",
        "#print(\"Int Division \" + str(10 // 4))\n",
        "#print(\"Floating Point Division \" + str(10.0 / 4))\n",
        "#print(\"Type Casting as float \" + str(float(10 / 4)))\n",
        "#print(\"Type Casting as int \" + str(int(10.5 / 4 )))\n",
        "#print(\"Mod: \" + str(17 % 3 ))\n",
        "#print(\"Order of Operations \" + str(2 + 5 / 3 ))\n",
        "#print(\"Order of Operations  \" + str(( 2 + 5 ) / 3 ));\n",
        "#print(\"Order Matters \" + str(int( 1.9) + int(1.9 )));\n",
        "#print(\"Order Matters \" + str(int( 1.9 + 1.9 )));\n",
        "#print(\"Order and Data Type Matter \" + str(1.9 + 1.9 ));\n",
        "#print(\"Rounding: \" + str(round(1.9 + 1.9, 0)));\n"
      ],
      "metadata": {
        "id": "qZ_ISM5Xlca6",
        "colab": {
          "base_uri": "https://localhost:8080/"
        },
        "outputId": "1e0ea856-df4c-4f0c-a2b6-ece59b53e56d"
      },
      "execution_count": null,
      "outputs": [
        {
          "output_type": "stream",
          "name": "stdout",
          "text": [
            "The Answer is: 42\n"
          ]
        }
      ]
    },
    {
      "cell_type": "markdown",
      "source": [
        "**Reflection Questions**\n",
        "*   When do the numbers get added together as opposed to just being put next together in the output? when concatenate\n",
        "\n",
        "*   What happens when you use (int) in front of a number with decimals?  it truncates the decimal part, and only the integer part remains. The result changes, discarding the decimal portion.\n",
        "How about float? it doesn't change the result for numbers with decimals; it remains the same.\n",
        "\n",
        "*   Are there any order of operations that are similar to Math?\n",
        "Yes, phyton follows a similar order to math:\n",
        "- first parentheses and brackets\n",
        "- second exponents and radicals\n",
        "- third multiplication and Division (from left to right)\n",
        "- fourth addition and Subtraction (from left to right)\n",
        "\n",
        "> Are there any that are new to you or different from math?\n",
        "No, this familiar sequence of Parentheses/Brackets, Exponents/Orders, Multiplication and Division, and Addition and Subtraction is the same. But I found new operator and function, casting new concepts.  \n",
        "\n"
      ],
      "metadata": {
        "id": "Jgg5qc4pn9mI"
      }
    },
    {
      "cell_type": "markdown",
      "source": [
        "# Programming Math and Types"
      ],
      "metadata": {
        "id": "VRDzYrmqpFm1"
      }
    },
    {
      "cell_type": "markdown",
      "source": [
        "\n",
        "\n",
        "\n",
        "\n",
        "\n",
        "\n",
        "\n",
        "\n",
        "\n",
        "\n",
        "\n",
        "\n",
        "1. Run the program below.  Enter the value 32 when it prompts you.  Does the program seem to work? Yes, 32 Fahrenheit is equivalent to 0 Celsius\n",
        "2. What are the two variables named? fahrenheit and celsius\n",
        "4. Look at the “Get the Input” section.  What command allows the program to allow the user to enter something? input(\"Get the Input\")\n",
        "5. The variable fahrenheit is going to store what data type? integer\n",
        "6. Run the program again.  This time enter the value 50.5.  Why do you think it crashes? Error to convert this decimal value in integer\n",
        "7. Change the cast of the input result so that the variable fahrenheit stores decimals.  (Use float instead of int)\n",
        "9. Run the program again.  Enter the value 50.5.  Did the program crash?\n",
        "Look at the answer.  Is this correct? No, it doesn't crashed. But the result is wrong.\n",
        "Enter a Temperature in fahrenheit: 50.5\n",
        "50.5 is 0.0  in Celsius\n",
        "10. Look at the “Do the Math” section of the code.  Is there anything there that would cause the output to be 0? (Hint: What happens when you have //?)  \n",
        "Yes it works when changed // to /\n",
        "celsius = 5/9 * (fahrenheit - 32)\n",
        "\n",
        "11. Fix the error in the code and run the program a few more times to test it out.\n",
        "\n",
        "Enter a Temperature in fahrenheit: 50.5\n",
        "50.5 is 10.277777777777779  in Celsius\n",
        "\n",
        "Enter a Temperature in fahrenheit: 32\n",
        "32.0 is 0.0  in Celsius\n",
        "\n",
        "\n",
        "Enter a Temperature in fahrenheit: 70\n",
        "70.0 is 21.11111111111111  in Celsius\n",
        "\n",
        "\n"
      ],
      "metadata": {
        "id": "mLqSerfwGo5d"
      }
    },
    {
      "cell_type": "code",
      "execution_count": null,
      "metadata": {
        "id": "JhBAd5syE6mH",
        "colab": {
          "base_uri": "https://localhost:8080/"
        },
        "outputId": "9ae03aae-8a20-41d2-9ed8-cca4223fdd6e"
      },
      "outputs": [
        {
          "output_type": "stream",
          "name": "stdout",
          "text": [
            "Enter a Temperature in fahrenheit: 70\n",
            "70.0 is 21.11111111111111  in Celsius\n"
          ]
        }
      ],
      "source": [
        "#get the input\n",
        "fahrenheit = float(input(\"Enter a Temperature in fahrenheit: \"))\n",
        "\n",
        "#do the math\n",
        "celsius = 5/9 * (fahrenheit - 32)\n",
        "\n",
        "#display the answer\n",
        "print(fahrenheit, \"is\", celsius, \" in Celsius\")"
      ]
    }
  ]
}